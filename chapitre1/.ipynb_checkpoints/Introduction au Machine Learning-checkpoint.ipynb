{
 "cells": [
  {
   "cell_type": "markdown",
   "id": "a1fc42b1",
   "metadata": {},
   "source": [
    "# Partie 1 : Chargement d'un dataset simple (Iris)\n",
    "\n",
    "Pour commencer, nous allons utiliser un dataset classique - le dataset Iris. \n",
    "Ce dataset contient des mesures de fleurs d'iris et leur espèce correspondante.\n",
    "\n",
    "Le dataset Iris est idéal pour débuter car :\n",
    "- Il est petit et facile à comprendre\n",
    "- Il est propre (pas de valeurs manquantes)\n",
    "- Il contient à la fois des caractéristiques numériques et une cible catégorielle\n",
    "\"\"\""
   ]
  },
  {
   "cell_type": "code",
   "execution_count": 232,
   "id": "11c95859",
   "metadata": {},
   "outputs": [],
   "source": [
    "from sklearn.datasets import load_iris\n",
    "import pandas as pd"
   ]
  },
  {
   "cell_type": "code",
   "execution_count": 233,
   "id": "de6cc234",
   "metadata": {},
   "outputs": [
    {
     "name": "stdout",
     "output_type": "stream",
     "text": [
      "Aperçu du dataset Iris:\n"
     ]
    },
    {
     "data": {
      "text/html": [
       "<div>\n",
       "<style scoped>\n",
       "    .dataframe tbody tr th:only-of-type {\n",
       "        vertical-align: middle;\n",
       "    }\n",
       "\n",
       "    .dataframe tbody tr th {\n",
       "        vertical-align: top;\n",
       "    }\n",
       "\n",
       "    .dataframe thead th {\n",
       "        text-align: right;\n",
       "    }\n",
       "</style>\n",
       "<table border=\"1\" class=\"dataframe\">\n",
       "  <thead>\n",
       "    <tr style=\"text-align: right;\">\n",
       "      <th></th>\n",
       "      <th>sepal length (cm)</th>\n",
       "      <th>sepal width (cm)</th>\n",
       "      <th>petal length (cm)</th>\n",
       "      <th>petal width (cm)</th>\n",
       "      <th>target</th>\n",
       "      <th>species</th>\n",
       "    </tr>\n",
       "  </thead>\n",
       "  <tbody>\n",
       "    <tr>\n",
       "      <th>0</th>\n",
       "      <td>5.1</td>\n",
       "      <td>3.5</td>\n",
       "      <td>1.4</td>\n",
       "      <td>0.2</td>\n",
       "      <td>0</td>\n",
       "      <td>setosa</td>\n",
       "    </tr>\n",
       "    <tr>\n",
       "      <th>1</th>\n",
       "      <td>4.9</td>\n",
       "      <td>3.0</td>\n",
       "      <td>1.4</td>\n",
       "      <td>0.2</td>\n",
       "      <td>0</td>\n",
       "      <td>setosa</td>\n",
       "    </tr>\n",
       "    <tr>\n",
       "      <th>2</th>\n",
       "      <td>4.7</td>\n",
       "      <td>3.2</td>\n",
       "      <td>1.3</td>\n",
       "      <td>0.2</td>\n",
       "      <td>0</td>\n",
       "      <td>setosa</td>\n",
       "    </tr>\n",
       "    <tr>\n",
       "      <th>3</th>\n",
       "      <td>4.6</td>\n",
       "      <td>3.1</td>\n",
       "      <td>1.5</td>\n",
       "      <td>0.2</td>\n",
       "      <td>0</td>\n",
       "      <td>setosa</td>\n",
       "    </tr>\n",
       "    <tr>\n",
       "      <th>4</th>\n",
       "      <td>5.0</td>\n",
       "      <td>3.6</td>\n",
       "      <td>1.4</td>\n",
       "      <td>0.2</td>\n",
       "      <td>0</td>\n",
       "      <td>setosa</td>\n",
       "    </tr>\n",
       "  </tbody>\n",
       "</table>\n",
       "</div>"
      ],
      "text/plain": [
       "   sepal length (cm)  sepal width (cm)  petal length (cm)  petal width (cm)  \\\n",
       "0                5.1               3.5                1.4               0.2   \n",
       "1                4.9               3.0                1.4               0.2   \n",
       "2                4.7               3.2                1.3               0.2   \n",
       "3                4.6               3.1                1.5               0.2   \n",
       "4                5.0               3.6                1.4               0.2   \n",
       "\n",
       "   target species  \n",
       "0       0  setosa  \n",
       "1       0  setosa  \n",
       "2       0  setosa  \n",
       "3       0  setosa  \n",
       "4       0  setosa  "
      ]
     },
     "metadata": {},
     "output_type": "display_data"
    }
   ],
   "source": [
    "# Chargement du dataset Iris\n",
    "iris = load_iris()\n",
    "\n",
    "# Conversion en DataFrame pandas pour une meilleure visualisation\n",
    "iris_df = pd.DataFrame(data=iris.data, columns=iris.feature_names)\n",
    "iris_df['target'] = iris.target\n",
    "iris_df['species'] = iris_df['target'].apply(lambda x: iris.target_names[x])\n",
    "\n",
    "# Affichage des 5 premières lignes\n",
    "print(\"Aperçu du dataset Iris:\")\n",
    "display(iris_df.head())"
   ]
  },
  {
   "cell_type": "markdown",
   "id": "a6349376",
   "metadata": {},
   "source": [
    "\"\"\"\n",
    "# Partie 2 : Visualisation de base avec Pandas/Matplotlib (Hassib ;) )\n",
    "\n",
    "Maintenant que nous avons chargé nos données, visualisons-les pour mieux comprendre leur distribution.\n",
    "\"\"\""
   ]
  },
  {
   "cell_type": "code",
   "execution_count": 234,
   "id": "49ee2438",
   "metadata": {},
   "outputs": [],
   "source": [
    "import matplotlib.pyplot as plt"
   ]
  },
  {
   "cell_type": "markdown",
   "id": "dac2534b",
   "metadata": {},
   "source": [
    "# Pandas"
   ]
  },
  {
   "cell_type": "code",
   "execution_count": 264,
   "id": "784d3048",
   "metadata": {},
   "outputs": [
    {
     "name": "stdout",
     "output_type": "stream",
     "text": [
      "<class 'pandas.core.frame.DataFrame'>\n",
      "Index: 150 entries, 0 to 149\n",
      "Data columns (total 6 columns):\n",
      " #   Column             Non-Null Count  Dtype  \n",
      "---  ------             --------------  -----  \n",
      " 0   sepal length (cm)  150 non-null    float64\n",
      " 1   sepal width (cm)   150 non-null    float64\n",
      " 2   petal length (cm)  150 non-null    float64\n",
      " 3   petal width (cm)   150 non-null    float64\n",
      " 4   target             150 non-null    int64  \n",
      " 5   species            150 non-null    object \n",
      "dtypes: float64(4), int64(1), object(1)\n",
      "memory usage: 8.2+ KB\n",
      "nombre de dimension : 2\n"
     ]
    }
   ],
   "source": [
    "# donne quelques informations générale sur le data set utilisé\n",
    "iris_df.info()\n",
    "\n",
    "# Savoir combien de dimension en tout\n",
    "print(f'nombre de dimension : {iris_df.ndim}')\n",
    "\n",
    "## on lui donne la colonne à comparer et on lui donne si c'est croissant ou décroissant (dans ce cas True = croissant)\n",
    "iris_df = iris_df.sort_values('sepal length (cm)', ascending=True)\n",
    "\n",
    "# On a change les indexes de place pour respecter le trie. Pour revenir comme on était, on peut trier selon l'indexe\n",
    "iris_df = iris_df.sort_index()\n"
   ]
  },
  {
   "cell_type": "code",
   "execution_count": 266,
   "id": "90a4a192",
   "metadata": {},
   "outputs": [
    {
     "name": "stdout",
     "output_type": "stream",
     "text": [
      "     sepal length (cm)  sepal width (cm)  petal length (cm)  petal width (cm)  \\\n",
      "105                7.6               3.0                6.6               2.1   \n",
      "107                7.3               2.9                6.3               1.8   \n",
      "109                7.2               3.6                6.1               2.5   \n",
      "117                7.7               3.8                6.7               2.2   \n",
      "118                7.7               2.6                6.9               2.3   \n",
      "122                7.7               2.8                6.7               2.0   \n",
      "130                7.4               2.8                6.1               1.9   \n",
      "131                7.9               3.8                6.4               2.0   \n",
      "135                7.7               3.0                6.1               2.3   \n",
      "\n",
      "     target    species  \n",
      "105       2  virginica  \n",
      "107       2  virginica  \n",
      "109       2  virginica  \n",
      "117       2  virginica  \n",
      "118       2  virginica  \n",
      "122       2  virginica  \n",
      "130       2  virginica  \n",
      "131       2  virginica  \n",
      "135       2  virginica  \n",
      "     sepal length (cm)  sepal width (cm)\n",
      "105                7.6               3.0\n",
      "107                7.3               2.9\n",
      "109                7.2               3.6\n",
      "117                7.7               3.8\n",
      "118                7.7               2.6\n",
      "122                7.7               2.8\n",
      "130                7.4               2.8\n",
      "131                7.9               3.8\n"
     ]
    }
   ],
   "source": [
    "# on ne peut que garder certaines partie du dataframe en ajoutant une condition\n",
    "iris_df_modif = iris_df[iris_df['petal length (cm)'] > 6]\n",
    "print(iris_df_modif)\n",
    "\n",
    "#on ne pourrait qu'avoir envie seulement 2 colonnes au lieu de toute le tableau\n",
    "# le a:b veut dire que tu énumère tous les entiers entre a et b inclus\n",
    "iris_df_modif = iris_df_modif.loc[105:131, ['sepal length (cm)','sepal width (cm)']]\n",
    "print(iris_df_modif)"
   ]
  },
  {
   "cell_type": "code",
   "execution_count": 273,
   "id": "0cb6a549",
   "metadata": {},
   "outputs": [
    {
     "name": "stdout",
     "output_type": "stream",
     "text": [
      "Moyenne de petal length : 3.7580000000000005\n",
      "Écart-type de petal length : 1.7652982332594662\n"
     ]
    }
   ],
   "source": [
    "# Imaginons que nous voulons la moyenne et l'écart-type d'une des colonnes\n",
    "print(f'Moyenne de petal length : {iris_df['petal length (cm)'].mean()}')\n",
    "print(f'Écart-type de petal length : {iris_df['petal length (cm)'].std()}')"
   ]
  },
  {
   "cell_type": "markdown",
   "id": "e4a804a2",
   "metadata": {},
   "source": [
    "# Matplolib"
   ]
  },
  {
   "cell_type": "code",
   "execution_count": null,
   "id": "792134e4",
   "metadata": {
    "vscode": {
     "languageId": "ruby"
    }
   },
   "outputs": [
    {
     "data": {
      "image/png": "[encoded data removed]",
      "text/plain": [
       "<Figure size 1000x800 with 4 Axes>"
      ]
     },
     "metadata": {},
     "output_type": "display_data"
    }
   ],
   "source": [
    "# Utilisation de box-plot pour comparer les quartiles, moyenne et écart-type\n",
    "\n",
    "# crée les sous graphiques de taille 2 par 2 avec une taille de 10 par 8\n",
    "fig, axes = plt.subplots(2, 2, figsize=(10,8))\n",
    "  \n",
    "# axes lorsque tu fais   fig, axes = plt.subplots(2, 2, figsize=(10,8))\n",
    "# [[axes[0,0], axes[0,1]],\n",
    "#  [axes[1,0], axes[1,1]]]\n",
    "\n",
    "# axes avec .flatten()\n",
    "# [axes[0,0], axes[0,1], axes[1,0], axes[1,1]]\n",
    "axes = axes.flatten()\n",
    "\n",
    "# zip c'est pour regrouper sous forme de tupple axes et nom de caractérisques  (sepal length , width ...)\n",
    "for ax , col in zip(axes, iris.feature_names) :\n",
    "    iris_df.boxplot(column = col , by='species' ,ax=ax)\n",
    "    ax.set_title(col)\n",
    "    # pour nettoyer le label « species » \n",
    "    ax.set_xlabel('')\n",
    "    ax.set_ylabel(col)\n",
    "\n",
    "plt.show()\n"
   ]
  },
  {
   "cell_type": "markdown",
   "id": "76a868b8",
   "metadata": {},
   "source": [
    "\"\"\"\n",
    "# Partie 3 : Séparation features/target et split train/test\n",
    "\n",
    "Avant d'entraîner un modèle, nous devons :\n",
    "1. Séparer les caractéristiques (X) de la cible (y)\n",
    "2. Diviser les données en ensembles d'entraînement et de test\n",
    "\"\"\""
   ]
  },
  {
   "cell_type": "code",
   "execution_count": null,
   "id": "4f5f6eb4",
   "metadata": {},
   "outputs": [
    {
     "name": "stdout",
     "output_type": "stream",
     "text": [
      "['sepal length (cm)', 'sepal width (cm)', 'petal length (cm)', 'petal width (cm)']\n",
      "Taille de l'ensemble d'entraînement: 120 échantillons\n",
      "Taille de l'ensemble de test: 30 échantillons\n",
      "\n",
      "Distribution des classes dans y_train:\n",
      "target\n",
      "0    0.333333\n",
      "2    0.333333\n",
      "1    0.333333\n",
      "Name: proportion, dtype: float64\n",
      "\n",
      "Distribution des classes dans y_test:\n",
      "target\n",
      "0    0.333333\n",
      "2    0.333333\n",
      "1    0.333333\n",
      "Name: proportion, dtype: float64\n"
     ]
    }
   ],
   "source": [
    "from sklearn.model_selection import train_test_split\n",
    "\n",
    "# Séparation features (X) et target (y)\n",
    "X = iris_df[iris.feature_names]  # Toutes les colonnes de caractéristiques\n",
    "y = iris_df['target']            # La colonne cible\n",
    "\n",
    "# Division en train/test (80% train, 20% test)\n",
    "X_train, X_test, y_train, y_test = train_test_split(X, y, \n",
    "                                                    test_size=0.2, \n",
    "                                                    random_state=42,\n",
    "                                                    stratify=y)\n",
    "\n",
    "print(f\"Taille de l'ensemble d'entraînement: {X_train.shape[0]} échantillons\")\n",
    "print(f\"Taille de l'ensemble de test: {X_test.shape[0]} échantillons\")\n",
    "\n",
    "# Vérification de la distribution des classes dans les splits\n",
    "print(\"\\nDistribution des classes dans y_train:\")\n",
    "print(y_train.value_counts(normalize=True))\n",
    "\n",
    "print(\"\\nDistribution des classes dans y_test:\")\n",
    "print(y_test.value_counts(normalize=True))"
   ]
  }
 ],
 "metadata": {
  "kernelspec": {
   "display_name": ".venv",
   "language": "python",
   "name": "python3"
  },
  "language_info": {
   "codemirror_mode": {
    "name": "ipython",
    "version": 3
   },
   "file_extension": ".py",
   "mimetype": "text/x-python",
   "name": "python",
   "nbconvert_exporter": "python",
   "pygments_lexer": "ipython3",
   "version": "3.12.8"
  }
 },
 "nbformat": 4,
 "nbformat_minor": 5
}

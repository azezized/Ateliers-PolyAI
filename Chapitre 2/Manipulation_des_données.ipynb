{
 "cells": [
  {
   "cell_type": "markdown",
   "metadata": {},
   "source": [
    "Importation des librairie utile"
   ]
  },
  {
   "cell_type": "code",
   "execution_count": 5,
   "metadata": {},
   "outputs": [],
   "source": [
    "import pandas as pd\n",
    "from sklearn import preprocessing\n",
    "from sklearn.datasets import load_iris\n",
    "from sklearn.model_selection import train_test_split\n"
   ]
  },
  {
   "cell_type": "markdown",
   "metadata": {},
   "source": [
    "# Normalisation\n"
   ]
  },
  {
   "cell_type": "code",
   "execution_count": 6,
   "metadata": {},
   "outputs": [],
   "source": [
    "### on charge nos données (même data set que la dernière fois)\n",
    "iris = load_iris() \n",
    "df_iris = pd.DataFrame(data=iris.data, columns=iris.feature_names)\n",
    "\n",
    "### C'est un label encoding : on donne une valeur selon la fleur\n",
    "df_iris['target'] = iris.target\n",
    "\n",
    "\n",
    "### on va separer notre data set en x et en y\n",
    "###  x correspond à qu'on donne au modèle \n",
    "###  y correspond à ce que l'on veut prédire\n",
    "### on peut la voir comme une fonction y selon x \n",
    "\n",
    "### Question de sécurité à cause des magies de python : on fait une copy\n",
    "### Si on prends le data set de bas on peut arriver des erreurs bizarres\n",
    "X = df_iris[iris.feature_names].copy()\n",
    "Y = df_iris['target'].copy()\n",
    "\n",
    "### On normalise : La fonction MinMaxScaler dans sklearn permet de faire cela\n",
    "X_normalized = pd.DataFrame(preprocessing.MinMaxScaler(X), columns=X.columns, index=X.index)"
   ]
  },
  {
   "cell_type": "markdown",
   "metadata": {},
   "source": [
    "# Standardisation"
   ]
  },
  {
   "cell_type": "code",
   "execution_count": 10,
   "metadata": {},
   "outputs": [],
   "source": [
    "### comme on a déjà chargé auparavant les données je n'ai pas besoin de les refaire \n",
    "\n",
    "### On standardise : La fonction StandardScaler dans sklearn permet de faire cela\n",
    "### On approxime à l'aide d'une distribution normal\n",
    "\n",
    "### il faut le faire sur un instance sinon ca ne marche pas\n",
    "scaler = preprocessing.StandardScaler()\n",
    "\n",
    "X_scaled = pd.DataFrame(\n",
    "    scaler.fit_transform(X),\n",
    "    columns=X_normalized.columns,\n",
    "    index=X_normalized.index\n",
    ")"
   ]
  },
  {
   "cell_type": "markdown",
   "metadata": {},
   "source": [
    "# Split"
   ]
  },
  {
   "cell_type": "code",
   "execution_count": 11,
   "metadata": {},
   "outputs": [],
   "source": [
    "### La prochaine étape est juste de split le data\n",
    "### on peut le faire avec la fonction train_test_split\n",
    "\n",
    "### test_size = 0.20 = 20%\n",
    "### shuffle = mélange les données\n",
    "### technique pour permettre de faire des échantillon avec la même proportion\n",
    "### X stadardisé ou normalisé\n",
    "### Y = ce qu'on veut pouvoir à la fin prédire\n",
    "\n",
    "X_train, X_test, y_train, y_test = train_test_split(\n",
    "    X_scaled,   \n",
    "    Y,\n",
    "    test_size=0.20,      \n",
    "    shuffle=True,\n",
    "    stratify=None        \n",
    ")\n"
   ]
  }
 ],
 "metadata": {
  "kernelspec": {
   "display_name": "myenv",
   "language": "python",
   "name": "python3"
  },
  "language_info": {
   "codemirror_mode": {
    "name": "ipython",
    "version": 3
   },
   "file_extension": ".py",
   "mimetype": "text/x-python",
   "name": "python",
   "nbconvert_exporter": "python",
   "pygments_lexer": "ipython3",
   "version": "3.13.3"
  }
 },
 "nbformat": 4,
 "nbformat_minor": 2
}
